{
  "nbformat": 4,
  "nbformat_minor": 0,
  "metadata": {
    "colab": {
      "name": "AI_Cat2.ipynb",
      "provenance": [],
      "collapsed_sections": [],
      "include_colab_link": true
    },
    "kernelspec": {
      "display_name": "Python 3",
      "name": "python3"
    }
  },
  "cells": [
    {
      "cell_type": "markdown",
      "metadata": {
        "id": "view-in-github",
        "colab_type": "text"
      },
      "source": [
        "<a href=\"https://colab.research.google.com/github/justbriang/Algo-tasks/blob/master/AI_Cat2.ipynb\" target=\"_parent\"><img src=\"https://colab.research.google.com/assets/colab-badge.svg\" alt=\"Open In Colab\"/></a>"
      ]
    },
    {
      "cell_type": "markdown",
      "metadata": {
        "id": "TsIUPRm6gRDz"
      },
      "source": [
        "Sentiment analysis of reviews"
      ]
    },
    {
      "cell_type": "code",
      "metadata": {
        "id": "9BCL_0kfeqWD"
      },
      "source": [
        "import numpy as np\r\n",
        "from tensorflow import keras\r\n",
        "\r\n",
        "\r\n",
        "from keras import Sequential\r\n",
        "\r\n",
        "import tensorflow as tf\r\n",
        "from keras.datasets import imdb"
      ],
      "execution_count": 16,
      "outputs": []
    },
    {
      "cell_type": "markdown",
      "metadata": {
        "id": "2DKvEI6TqUZz"
      },
      "source": [
        "# in the below case the data will be split 50/50, but we want to avoid such a scenario.Best practices are usually 80/20 or 70/30 splits, as this results in a better model"
      ]
    },
    {
      "cell_type": "code",
      "metadata": {
        "colab": {
          "base_uri": "https://localhost:8080/"
        },
        "id": "cpK9ng8IgP0R",
        "outputId": "8db8f596-1475-4fa0-fa05-4fd8c16d5d33"
      },
      "source": [
        "(x_train, y_train), (x_test, y_test)=imdb.load_data(\r\n",
        "    path=\"imdb.npz\",\r\n",
        "    num_words=10000,\r\n",
        "    skip_top=0,\r\n",
        "    maxlen=None,\r\n",
        "    seed=113,\r\n",
        "    start_char=1,\r\n",
        "    oov_char=2,\r\n",
        "    index_from=3,\r\n",
        "   \r\n",
        ")"
      ],
      "execution_count": 17,
      "outputs": [
        {
          "output_type": "stream",
          "text": [
            "<string>:6: VisibleDeprecationWarning: Creating an ndarray from ragged nested sequences (which is a list-or-tuple of lists-or-tuples-or ndarrays with different lengths or shapes) is deprecated. If you meant to do this, you must specify 'dtype=object' when creating the ndarray\n",
            "/usr/local/lib/python3.6/dist-packages/tensorflow/python/keras/datasets/imdb.py:159: VisibleDeprecationWarning: Creating an ndarray from ragged nested sequences (which is a list-or-tuple of lists-or-tuples-or ndarrays with different lengths or shapes) is deprecated. If you meant to do this, you must specify 'dtype=object' when creating the ndarray\n",
            "  x_train, y_train = np.array(xs[:idx]), np.array(labels[:idx])\n",
            "/usr/local/lib/python3.6/dist-packages/tensorflow/python/keras/datasets/imdb.py:160: VisibleDeprecationWarning: Creating an ndarray from ragged nested sequences (which is a list-or-tuple of lists-or-tuples-or ndarrays with different lengths or shapes) is deprecated. If you meant to do this, you must specify 'dtype=object' when creating the ndarray\n",
            "  x_test, y_test = np.array(xs[idx:]), np.array(labels[idx:])\n"
          ],
          "name": "stderr"
        }
      ]
    },
    {
      "cell_type": "markdown",
      "metadata": {
        "id": "4nZ1bzBpq59d"
      },
      "source": [
        "We will therefore merge the data then later split 80/20"
      ]
    },
    {
      "cell_type": "code",
      "metadata": {
        "id": "N3zAoyplhU5X"
      },
      "source": [
        "data = np.concatenate((x_train, x_test), axis=0)\r\n",
        "targets = np.concatenate((y_train, y_test), axis=0)"
      ],
      "execution_count": 18,
      "outputs": []
    },
    {
      "cell_type": "markdown",
      "metadata": {
        "id": "428Lhu33rFVk"
      },
      "source": [
        "EXPLORING THE DATA"
      ]
    },
    {
      "cell_type": "code",
      "metadata": {
        "colab": {
          "base_uri": "https://localhost:8080/"
        },
        "id": "bA4jqpk8hAMq",
        "outputId": "15691066-f589-4239-9e3e-a34cdc73d36b"
      },
      "source": [
        "print(\"Categories:\", np.unique(targets))\r\n",
        "print(\"Number of unique words:\", len(np.unique(np.hstack(data))))\r\n",
        "\r\n"
      ],
      "execution_count": 19,
      "outputs": [
        {
          "output_type": "stream",
          "text": [
            "Categories: [0 1]\n",
            "Number of unique words: 9998\n"
          ],
          "name": "stdout"
        }
      ]
    },
    {
      "cell_type": "markdown",
      "metadata": {
        "id": "yoCSSfrnsVwy"
      },
      "source": [
        "From the above its clear that the dataset is labeled into two categories 0,1, representing the sentiment of the review. Where 0 represents negative sentiment and 1 represents positive sentiment"
      ]
    },
    {
      "cell_type": "markdown",
      "metadata": {
        "id": "0lSknK4IszjS"
      },
      "source": [
        "Below we will sample a single review and check its label"
      ]
    },
    {
      "cell_type": "code",
      "metadata": {
        "colab": {
          "base_uri": "https://localhost:8080/"
        },
        "id": "waeNjDKZsxeP",
        "outputId": "2190b010-4e78-4028-cc73-99278725a65c"
      },
      "source": [
        "print(\"Label:\", targets[20])\r\n",
        "\r\n",
        "Label: 1\r\n",
        "print(data[20])"
      ],
      "execution_count": 20,
      "outputs": [
        {
          "output_type": "stream",
          "text": [
            "Label: 0\n",
            "[1, 617, 11, 3875, 17, 2, 14, 966, 78, 20, 9, 38, 78, 15, 25, 413, 2, 5, 28, 8, 106, 12, 8, 4, 130, 43, 8, 67, 48, 12, 100, 79, 101, 433, 5, 12, 127, 4, 769, 9, 38, 727, 12, 186, 398, 34, 6, 312, 396, 2, 707, 4, 732, 26, 1235, 21, 2, 128, 74, 4, 2, 5, 4, 116, 9, 1639, 10, 10, 4, 2, 2, 186, 8, 28, 77, 2586, 39, 4, 4135, 2, 7, 2, 2, 50, 161, 306, 8, 30, 6, 686, 204, 326, 11, 4, 226, 20, 10, 10, 13, 258, 14, 20, 8, 30, 38, 78, 15, 13, 1498, 91, 7, 4, 96, 143, 10, 10, 9859, 9064, 144, 3261, 27, 419, 11, 902, 29, 540, 887, 4, 278]\n"
          ],
          "name": "stdout"
        }
      ]
    },
    {
      "cell_type": "markdown",
      "metadata": {
        "id": "teVfhXu_sx9b"
      },
      "source": [
        "Below we will retrieve the dictornary mapping word indices back into the original words so that we can be able to read the review"
      ]
    },
    {
      "cell_type": "code",
      "metadata": {
        "colab": {
          "base_uri": "https://localhost:8080/"
        },
        "id": "AkmH_T4Gt4w1",
        "outputId": "34a0a867-63b4-4901-edac-bdd100e3a847"
      },
      "source": [
        "index = imdb.get_word_index()\r\n",
        "reverse_index = dict([(value, key) for (key, value) in index.items()]) \r\n",
        "decoded = \" \".join( [reverse_index.get(i - 3, \"#\") for i in data[20]] )\r\n",
        "print(decoded) "
      ],
      "execution_count": 21,
      "outputs": [
        {
          "output_type": "stream",
          "text": [
            "# shown in australia as # this incredibly bad movie is so bad that you become # and have to watch it to the end just to see if it could get any worse and it does the storyline is so predictable it seems written by a high school # class the sets are pathetic but # better than the # and the acting is wooden br br the # # seems to have been stolen from the props # of # # there didn't seem to be a single original idea in the whole movie br br i found this movie to be so bad that i laughed most of the way through br br malcolm mcdowell should hang his head in shame he obviously needed the money\n"
          ],
          "name": "stdout"
        }
      ]
    },
    {
      "cell_type": "markdown",
      "metadata": {
        "id": "v0rt5vNot7SA"
      },
      "source": [
        "note:each # represents an unknown word, this is as a result of the word not being part of the word not being part of the word dictionary we are using"
      ]
    },
    {
      "cell_type": "markdown",
      "metadata": {
        "id": "Fj41GFtBwNHO"
      },
      "source": [
        "Data preprocessing\r\n",
        "We will vectoruse every review to ensure each contains exactly 10000 numbers\r\n",
        "NOTE: we will fill every review that is shorter than 10000 with zeros\r\n",
        "\r\n",
        "This is vital as every input for our ANN needs to have the same size.\r\n",
        "In addition, we will also transform the targets into floats. "
      ]
    },
    {
      "cell_type": "code",
      "metadata": {
        "id": "jsTJrlfYvfie"
      },
      "source": [
        "def vectorize(sequences, dimension = 10000):\r\n",
        "  results = np.zeros((len(sequences), dimension))\r\n",
        "  for i, sequence in enumerate(sequences):\r\n",
        "    results[i, sequence] = 1\r\n",
        "  return results\r\n",
        " \r\n",
        "data = vectorize(data)\r\n",
        "targets = np.array(targets).astype(\"float32\")"
      ],
      "execution_count": 22,
      "outputs": []
    },
    {
      "cell_type": "markdown",
      "metadata": {
        "id": "RKriGsDhxUoA"
      },
      "source": [
        "Below we will proceed to split the data in an 80/20 split"
      ]
    },
    {
      "cell_type": "code",
      "metadata": {
        "id": "ve9EsySBwyue"
      },
      "source": [
        "from sklearn.model_selection import train_test_split\r\n",
        "x_train, x_test, y_train, y_test = train_test_split(data, targets, test_size = 0.2)"
      ],
      "execution_count": 23,
      "outputs": []
    },
    {
      "cell_type": "markdown",
      "metadata": {
        "id": "7GJ3Os_WxbfJ"
      },
      "source": [
        "Verify successful split"
      ]
    },
    {
      "cell_type": "code",
      "metadata": {
        "colab": {
          "base_uri": "https://localhost:8080/"
        },
        "id": "cPXdn8nExgb2",
        "outputId": "c855ead2-6642-4397-fc59-ed3c3fb2d000"
      },
      "source": [
        "x_train.shape"
      ],
      "execution_count": 24,
      "outputs": [
        {
          "output_type": "execute_result",
          "data": {
            "text/plain": [
              "(40000, 10000)"
            ]
          },
          "metadata": {
            "tags": []
          },
          "execution_count": 24
        }
      ]
    },
    {
      "cell_type": "code",
      "metadata": {
        "colab": {
          "base_uri": "https://localhost:8080/"
        },
        "id": "8CjkijPXxj3i",
        "outputId": "fbddf349-0876-4470-d0ae-6fd0d8ed0a96"
      },
      "source": [
        "x_test.shape"
      ],
      "execution_count": 25,
      "outputs": [
        {
          "output_type": "execute_result",
          "data": {
            "text/plain": [
              "(10000, 10000)"
            ]
          },
          "metadata": {
            "tags": []
          },
          "execution_count": 25
        }
      ]
    },
    {
      "cell_type": "markdown",
      "metadata": {
        "id": "Bpqb3T38xqE5"
      },
      "source": [
        "Building and training model\r\n",
        "now we will build our simple neural network"
      ]
    },
    {
      "cell_type": "code",
      "metadata": {
        "colab": {
          "base_uri": "https://localhost:8080/"
        },
        "id": "Ccb0eImFx2hy",
        "outputId": "2f1a0ba5-9416-4469-929d-b7aae007c774"
      },
      "source": [
        "from keras import layers\r\n",
        "\r\n",
        "model=Sequential()\r\n",
        "# Input Layer\r\n",
        "model.add(layers.Dense(50, activation = \"relu\", input_shape=(10000, )))\r\n",
        "# Hidden Layers\r\n",
        "model.add(layers.Dropout(0.3, noise_shape=None, seed=None))\r\n",
        "model.add(layers.Dense(50, activation = \"relu\"))\r\n",
        "model.add(layers.Dropout(0.2, noise_shape=None, seed=None))\r\n",
        "model.add(layers.Dense(50, activation = \"relu\"))\r\n",
        "# Output Layer\r\n",
        "model.add(layers.Dense(1, activation = \"sigmoid\"))\r\n",
        "model.summary()"
      ],
      "execution_count": 26,
      "outputs": [
        {
          "output_type": "stream",
          "text": [
            "Model: \"sequential_1\"\n",
            "_________________________________________________________________\n",
            "Layer (type)                 Output Shape              Param #   \n",
            "=================================================================\n",
            "dense_4 (Dense)              (None, 50)                500050    \n",
            "_________________________________________________________________\n",
            "dropout_2 (Dropout)          (None, 50)                0         \n",
            "_________________________________________________________________\n",
            "dense_5 (Dense)              (None, 50)                2550      \n",
            "_________________________________________________________________\n",
            "dropout_3 (Dropout)          (None, 50)                0         \n",
            "_________________________________________________________________\n",
            "dense_6 (Dense)              (None, 50)                2550      \n",
            "_________________________________________________________________\n",
            "dense_7 (Dense)              (None, 1)                 51        \n",
            "=================================================================\n",
            "Total params: 505,201\n",
            "Trainable params: 505,201\n",
            "Non-trainable params: 0\n",
            "_________________________________________________________________\n"
          ],
          "name": "stdout"
        }
      ]
    },
    {
      "cell_type": "markdown",
      "metadata": {
        "id": "stPIwVoEyZs3"
      },
      "source": [
        "We will now compile our model. We use the “adam” optimizer. We also choose binary-crossentropy as loss (because we deal with binary classification) and accuracy as our evaluation metric."
      ]
    },
    {
      "cell_type": "code",
      "metadata": {
        "id": "oiKwCVc8yRmt"
      },
      "source": [
        "model.compile(\r\n",
        " optimizer = \"adam\",\r\n",
        " loss = \"binary_crossentropy\",\r\n",
        " metrics = [\"accuracy\"]\r\n",
        ")"
      ],
      "execution_count": 27,
      "outputs": []
    },
    {
      "cell_type": "markdown",
      "metadata": {
        "id": "kHIRqWiby9SV"
      },
      "source": [
        "we will now train our model. In training we will use a batch size of 256 and 3 epochs"
      ]
    },
    {
      "cell_type": "code",
      "metadata": {
        "colab": {
          "base_uri": "https://localhost:8080/"
        },
        "id": "YlzJwChIyqfZ",
        "outputId": "c69b9ca7-9e3b-4e53-8592-1a8c972c098e"
      },
      "source": [
        "\r\n",
        "history = model.fit(\r\n",
        " x_train, y_train,\r\n",
        " epochs= 2,\r\n",
        " batch_size = 256,\r\n",
        " validation_data = (x_test, y_test),\r\n",
        " verbose=1\r\n",
        ")"
      ],
      "execution_count": 28,
      "outputs": [
        {
          "output_type": "stream",
          "text": [
            "Epoch 1/2\n",
            "157/157 [==============================] - 4s 22ms/step - loss: 0.4818 - accuracy: 0.7541 - val_loss: 0.2563 - val_accuracy: 0.8950\n",
            "Epoch 2/2\n",
            "157/157 [==============================] - 3s 20ms/step - loss: 0.1972 - accuracy: 0.9266 - val_loss: 0.2616 - val_accuracy: 0.8916\n"
          ],
          "name": "stdout"
        }
      ]
    },
    {
      "cell_type": "code",
      "metadata": {
        "colab": {
          "base_uri": "https://localhost:8080/"
        },
        "id": "xaIkmvp12YvX",
        "outputId": "2bab5a84-53fe-4db5-99b1-5993ecae849d"
      },
      "source": [
        "scores = model.evaluate(x_test, y_test, verbose=1)\r\n",
        "print(\"Accuracy: \", (scores[1]*100),\"%\")"
      ],
      "execution_count": 29,
      "outputs": [
        {
          "output_type": "stream",
          "text": [
            "313/313 [==============================] - 1s 2ms/step - loss: 0.2616 - accuracy: 0.8916\n",
            "Accuracy:  89.16000127792358 %\n"
          ],
          "name": "stdout"
        }
      ]
    },
    {
      "cell_type": "code",
      "metadata": {
        "colab": {
          "base_uri": "https://localhost:8080/",
          "height": 279
        },
        "id": "3uXKMo9q4AHJ",
        "outputId": "43a542df-ae03-4a9f-c8ee-c7df821a4656"
      },
      "source": [
        "import matplotlib.pyplot as plt\r\n",
        "\r\n",
        "history_dict=history.history\r\n",
        "loss_values=history_dict['loss']\r\n",
        "val_loss_values=history_dict['val_loss']\r\n",
        "epochs=range(1,len(loss_values)+1 )\r\n",
        "\r\n",
        "line1=plt.plot(epochs,val_loss_values,label='Validation/Test Loss')\r\n",
        "line2=plt.plot(epochs,loss_values,label='Training Loss')\r\n",
        "plt.setp(line1,linewidth=2.0,marker='+',markersize=10.0)\r\n",
        "plt.setp(line2,linewidth=2.0,marker='4',markersize=10.0)\r\n",
        "plt.xlabel('Epochs')\r\n",
        "plt.ylabel('loss')\r\n",
        "plt.grid(True)\r\n",
        "plt.legend()\r\n",
        "plt.show()"
      ],
      "execution_count": 30,
      "outputs": [
        {
          "output_type": "display_data",
          "data": {
            "image/png": "[encoded data removed]",
            "text/plain": [
              "<Figure size 432x288 with 1 Axes>"
            ]
          },
          "metadata": {
            "tags": [],
            "needs_background": "light"
          }
        }
      ]
    }
  ]
}